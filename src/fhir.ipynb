{
 "cells": [
  {
   "cell_type": "code",
   "execution_count": 27,
   "metadata": {},
   "outputs": [],
   "source": [
    "#Takes a clinical note and generates a valid FHIR bundle of the most critical pieces\n",
    "\n",
    "import re\n",
    "from chromadb import api\n",
    "from langchain_core.prompts import PromptTemplate\n",
    "from langchain_community.document_loaders import TextLoader, DirectoryLoader\n",
    "from langchain.text_splitter import RecursiveCharacterTextSplitter\n",
    "from langchain.retrievers import ContextualCompressionRetriever\n",
    "from langchain.retrievers.document_compressors import LLMChainExtractor\n",
    "from langchain_google_genai import GoogleGenerativeAIEmbeddings\n",
    "from langchain_google_genai import ChatGoogleGenerativeAI\n",
    "from langchain_core.runnables import RunnableLambda\n",
    "from langchain_core.runnables import RunnableSequence  # Import RunnableSequence\n",
    "import os\n",
    "from langchain_core.output_parsers import JsonOutputParser\n",
    "import shutil\n",
    "from dotenv import load_dotenv\n",
    "from langchain.chat_models import ChatOpenAI\n",
    "from langchain.prompts import PromptTemplate\n",
    "import logging\n",
    "from langchain.globals import set_verbose\n",
    "set_verbose(True)\n"
   ]
  },
  {
   "cell_type": "code",
   "execution_count": 25,
   "metadata": {},
   "outputs": [
    {
     "data": {
      "text/plain": [
       "True"
      ]
     },
     "execution_count": 25,
     "metadata": {},
     "output_type": "execute_result"
    }
   ],
   "source": [
    "# Configure logging\n",
    "logging.basicConfig(level=logging.INFO, \n",
    "                   format='%(asctime)s - %(name)s - %(levelname)s - %(message)s')\n",
    "logger = logging.getLogger(\"fhir-transformer\")\n",
    "load_dotenv()"
   ]
  },
  {
   "cell_type": "code",
   "execution_count": null,
   "metadata": {},
   "outputs": [],
   "source": [
    "def setup():\n",
    "    google_api_key = os.getenv(\"GOOGLE_API_KEY\")\n",
    "    if not google_api_key:\n",
    "        raise ValueError(\"GOOGLE_API_KEY environment variable is not found.\")\n",
    "    llm = ChatGoogleGenerativeAI(model=\"gemini-2.5-flash-preview-04-17\", temperature=0.0, google_api_key=google_api_key)\n",
    "    return llm\n",
    "llm = setup()"
   ]
  },
  {
   "cell_type": "markdown",
   "metadata": {},
   "source": [
    "# Make the Patient Resource"
   ]
  },
  {
   "cell_type": "markdown",
   "metadata": {},
   "source": [
    "##### Note: for US IG mandatory elemets: identifier, resourcetype, meta.profile, active, name, gender, birthDate, race"
   ]
  },
  {
   "cell_type": "code",
   "execution_count": 36,
   "metadata": {},
   "outputs": [],
   "source": [
    "\n",
    "template = \"\"\"<System> You are a clinical NLP system and clinicical informatics expert that specializes in medical ontologies like Snomed CT, ICD-10, LOINC, and CPT.\n",
    "\n",
    "<Task>Extract the following patient information from this clinical note: {note}\n",
    "\n",
    "1. name\n",
    "2. age\n",
    "3. gender\n",
    "4. unique identifier\n",
    "5. race\n",
    "6. contact information\n",
    "7. active status\n",
    "\n",
    "If a piece of information is not present, return Null.\n",
    "\n",
    "<Format Instructions>\n",
    "{format_instructions}\n",
    "\"\"\""
   ]
  },
  {
   "cell_type": "code",
   "execution_count": 34,
   "metadata": {},
   "outputs": [],
   "source": [
    "# #example of a compliant Patient resource\n",
    "# {\n",
    "#   \"resourceType\": \"Patient\",\n",
    "#   \"id\": \"12345\",\n",
    "#   \"meta\": {\n",
    "#     \"profile\": [\n",
    "#       \"http://hl7.org/fhir/us/core/StructureDefinition/us-core-patient\"\n",
    "#     ]\n",
    "#   },\n",
    "#   \"identifier\": [\n",
    "#     {\n",
    "#       \"system\": \"http://hospital.smarthealthit.org\",\n",
    "#       \"value\": \"MRN123456\"\n",
    "#     }\n",
    "#   ],\n",
    "#   \"active\": true,\n",
    "#   \"name\": [\n",
    "#     {\n",
    "#       \"family\": \"Doe\",\n",
    "#       \"given\": [\"John\"]\n",
    "#     }\n",
    "#   ],\n",
    "#   \"gender\": \"male\",\n",
    "#   \"birthDate\": \"1980-01-01\",\n",
    "#   \"extension\": [\n",
    "#     {\n",
    "#       \"url\": \"http://hl7.org/fhir/us/core/StructureDefinition/us-core-race\",\n",
    "#       \"valueCodeableConcept\": {\n",
    "#         \"coding\": [\n",
    "#           {\n",
    "#             \"system\": \"http://hl7.org/fhir/v3/Race\",\n",
    "#             \"code\": \"2106-3\",\n",
    "#             \"display\": \"White\"\n",
    "#           }\n",
    "#         ],\n",
    "#         \"text\": \"White\"\n",
    "#       }\n",
    "#     },\n",
    "#     {\n",
    "#       \"url\": \"http://hl7.org/fhir/us/core/StructureDefinition/us-core-ethnicity\",\n",
    "#       \"valueCodeableConcept\": {\n",
    "#         \"coding\": [\n",
    "#           {\n",
    "#             \"system\": \"http://hl7.org/fhir/v3/Ethnicity\",\n",
    "#             \"code\": \"2186-5\",\n",
    "#             \"display\": \"Not Hispanic or Latino\"\n",
    "#           }\n",
    "#         ],\n",
    "#         \"text\": \"Not Hispanic or Latino\"\n",
    "#       }\n",
    "#     }\n",
    "#   ],\n",
    "#   \"telecom\": [\n",
    "#     {\n",
    "#       \"system\": \"phone\",\n",
    "#       \"value\": \"555-123-4567\",\n",
    "#       \"use\": \"home\"\n",
    "#     }\n",
    "#   ],\n",
    "#   \"address\": [\n",
    "#     {\n",
    "#       \"line\": [\"123 Main St\"],\n",
    "#       \"city\": \"Metropolis\",\n",
    "#       \"state\": \"NY\",\n",
    "#       \"postalCode\": \"10001\",\n",
    "#       \"country\": \"USA\"\n",
    "#     }\n",
    "#   ]\n",
    "# }"
   ]
  },
  {
   "cell_type": "code",
   "execution_count": 37,
   "metadata": {},
   "outputs": [
    {
     "name": "stdout",
     "output_type": "stream",
     "text": [
      "{'name': None, 'age': 80, 'gender': 'F', 'unique_identifier': None, 'race': None, 'contact_information': None, 'active_status': None}\n"
     ]
    }
   ],
   "source": [
    "#let's try a inpatient medicine discharge summary for a CHF stay\n",
    "prompt = PromptTemplate.from_template(template)\n",
    "\n",
    "try:\n",
    "    note = open(\"../clinical_notes_repository/note_1_medicine_CHF.txt\").read()\n",
    "    parser = JsonOutputParser()\n",
    "    format_instructions = parser.get_format_instructions()\n",
    "    chain = prompt | llm | parser\n",
    "    response = chain.invoke({'note': note,'format_instructions': format_instructions})\n",
    "    print(response)\n",
    "except Exception as e:\n",
    "    print(f\"Error extracting patient data: {e}\")"
   ]
  },
  {
   "cell_type": "markdown",
   "metadata": {},
   "source": [
    "# Make the Condition Resource"
   ]
  },
  {
   "cell_type": "markdown",
   "metadata": {},
   "source": []
  }
 ],
 "metadata": {
  "kernelspec": {
   "display_name": "guidelines",
   "language": "python",
   "name": "python3"
  },
  "language_info": {
   "codemirror_mode": {
    "name": "ipython",
    "version": 3
   },
   "file_extension": ".py",
   "mimetype": "text/x-python",
   "name": "python",
   "nbconvert_exporter": "python",
   "pygments_lexer": "ipython3",
   "version": "3.11.11"
  }
 },
 "nbformat": 4,
 "nbformat_minor": 2
}
